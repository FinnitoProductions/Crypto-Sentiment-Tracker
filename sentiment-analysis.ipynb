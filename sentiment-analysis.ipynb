{
 "cells": [
  {
   "cell_type": "code",
   "execution_count": 1,
   "metadata": {},
   "outputs": [],
   "source": [
    "import finndex\n",
    "import datetime"
   ]
  },
  {
   "cell_type": "code",
   "execution_count": 2,
   "metadata": {},
   "outputs": [],
   "source": [
    "from finndex.sentiment import fearandgreed, trends\n",
    "from finndex.fundamental import coinmetrics\n",
    "from finndex.fundamental.coinmetrics import CoinMetricsData\n",
    "from finndex.util.cryptocurrencies import Cryptocurrencies"
   ]
  },
  {
   "cell_type": "code",
   "execution_count": 3,
   "metadata": {},
   "outputs": [],
   "source": [
    "from finndex.aggregate.historical import HistoricalSentimentManager\n",
    "from finndex.aggregate.historical import HistoricalMetricType\n",
    "manager = HistoricalSentimentManager([HistoricalMetricType.FEAR_AND_GREED, \n",
    "                            HistoricalMetricType.TRENDS,\n",
    "                                     HistoricalMetricType.DAILY_ADDRESSES,\n",
    "                                     HistoricalMetricType.TRANSACTION_CNT],\n",
    "                           [Cryptocurrencies.BITCOIN, Cryptocurrencies.ETHEREUM, Cryptocurrencies.TEZOS, \n",
    "                            Cryptocurrencies.KYBER_NETWORK, Cryptocurrencies.CHAINLINK])"
   ]
  },
  {
   "cell_type": "code",
   "execution_count": null,
   "metadata": {},
   "outputs": [],
   "source": [
    "historical = manager.get_historical_sentiment()"
   ]
  },
  {
   "cell_type": "code",
   "execution_count": null,
   "metadata": {},
   "outputs": [],
   "source": [
    "historical.plot()"
   ]
  },
  {
   "cell_type": "code",
   "execution_count": null,
   "metadata": {},
   "outputs": [],
   "source": [
    "prices = manager.get_prices()"
   ]
  },
  {
   "cell_type": "code",
   "execution_count": null,
   "metadata": {},
   "outputs": [],
   "source": [
    "print(manager.get_price_correlation())"
   ]
  },
  {
   "cell_type": "code",
   "execution_count": null,
   "metadata": {},
   "outputs": [],
   "source": [
    "manager.get_index_sentiment().plot()"
   ]
  }
 ],
 "metadata": {
  "kernelspec": {
   "display_name": "cryptickoenv3",
   "language": "python",
   "name": "cryptickoenv3"
  },
  "language_info": {
   "codemirror_mode": {
    "name": "ipython",
    "version": 3
   },
   "file_extension": ".py",
   "mimetype": "text/x-python",
   "name": "python",
   "nbconvert_exporter": "python",
   "pygments_lexer": "ipython3",
   "version": "3.8.5"
  }
 },
 "nbformat": 4,
 "nbformat_minor": 4
}
