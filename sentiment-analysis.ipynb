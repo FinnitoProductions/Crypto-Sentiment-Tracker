{
 "cells": [
  {
   "cell_type": "markdown",
   "metadata": {},
   "source": [
    "## Start the NLP server\n"
   ]
  },
  {
   "cell_type": "code",
   "execution_count": 2,
   "metadata": {},
   "outputs": [
    {
     "data": {
      "text/plain": [
       "<os._wrap_close at 0x111cb5128>"
      ]
     },
     "execution_count": 2,
     "metadata": {},
     "output_type": "execute_result"
    }
   ],
   "source": [
    "import os\n",
    "\n",
    "STANFORD_NLP_LOCATION = '~/stanford-corenlp-full-2018-10-05/' # the location of the Stanford NLP library on my computer \n",
    "                                                              #(download at https://stanfordnlp.github.io/CoreNLP)\n",
    "STANFORD_NLP_TIMEOUT = 10000 # the time after which a given NLP request will be killed if not yet complete\n",
    "\n",
    "exec = os.popen\n",
    "exec('cd %s; java -mx5g -cp \"*\" edu.stanford.nlp.pipeline.StanfordCoreNLPServer -timeout %s' % \n",
    "     (STANFORD_NLP_LOCATION, STANFORD_NLP_TIMEOUT))"
   ]
  },
  {
   "cell_type": "markdown",
   "metadata": {},
   "source": [
    "## Create function to determine the sentiment of a block of text"
   ]
  },
  {
   "cell_type": "code",
   "execution_count": 75,
   "metadata": {},
   "outputs": [
    {
     "name": "stdout",
     "output_type": "stream",
     "text": [
      "1.3571428571428572\n"
     ]
    }
   ],
   "source": [
    "from pycorenlp import StanfordCoreNLP\n",
    "import numpy\n",
    "\n",
    "MIN_SENTIMENT = 0\n",
    "MAX_SENTIMENT = 4\n",
    "\n",
    "# Determines the sentiment of a given block of text as a range from 0 (Extremely Negative) to 4 (Extremely Positive).\n",
    "def findSentiment(text):\n",
    "    NLP_SERVER_LOCATION = 'http://localhost:9000'\n",
    "    PROPERTIES_DICTIONARY = {'annotators': 'sentiment', 'outputFormat': 'json', 'timeout': 1000}\n",
    "    \n",
    "    nlp = StanfordCoreNLP(NLP_SERVER_LOCATION)\n",
    "    result = nlp.annotate(text, properties = PROPERTIES_DICTIONARY)\n",
    "\n",
    "    sentiments = []\n",
    "    for sentenceAnalysis in result['sentences']:\n",
    "        sentence = \" \".join(t['word'] for t in sentenceAnalysis['tokens'])\n",
    "        sentence = sentence.replace('.', '')\n",
    "\n",
    "        sentimentValue = float(sentenceAnalysis['sentimentValue'])\n",
    "\n",
    "        sentiments += [sentimentValue]\n",
    "    return numpy.average(sentiments)\n",
    "\n",
    "print(findSentiment(TEXT))"
   ]
  },
  {
   "cell_type": "markdown",
   "metadata": {},
   "source": [
    "## Create gauge visual for sentiment reading"
   ]
  },
  {
   "cell_type": "code",
   "execution_count": 234,
   "metadata": {},
   "outputs": [],
   "source": [
    "%matplotlib inline\n",
    "import os, sys\n",
    "import matplotlib\n",
    "from matplotlib import cm\n",
    "from matplotlib import pyplot as plt\n",
    "import numpy as np\n",
    "from matplotlib.patches import Circle, Wedge, Rectangle\n",
    "\n",
    "ARROW_TAIL_RADIUS = 0.015\n",
    "\n",
    "# Determines the range of angles which represent each portion of a gauge with n items.\n",
    "def degreeRange(n): \n",
    "    start = np.linspace(0,180,n+1, endpoint=True)[0:-1]\n",
    "    end = np.linspace(0,180,n+1, endpoint=True)[1::]\n",
    "    mid_points = (start + end)/2.0\n",
    "    return np.c_[start, end], mid_points\n",
    "\n",
    "# Rotates a piece of text by a given angle.\n",
    "def rot_text(ang): \n",
    "    rotation = np.degrees(np.radians(ang) * np.pi / np.pi - np.radians(90))\n",
    "    return rotation\n",
    "\n",
    "# Linearly maps a value within one range to a new range.\n",
    "def map(num, init_min, init_max, new_min, new_max):\n",
    "    return (num - init_min) * (new_max - new_min) / (init_max - init_min) + new_min\n",
    "\n",
    "# Creates and displays a gauge\n",
    "def gauge(labels, colors, sentiment=1, title='', fname=False): \n",
    "    N = len(labels)\n",
    "\n",
    "    if isinstance(colors, list): \n",
    "        colors = colors[::-1]\n",
    "\n",
    "    \"\"\"\n",
    "    begins the plotting\n",
    "    \"\"\"\n",
    "    \n",
    "    fig, ax = plt.subplots()\n",
    "\n",
    "    ang_range, mid_points = degree_range(N)\n",
    "\n",
    "    labels = labels[::-1]\n",
    "    \n",
    "    \"\"\"\n",
    "    plots the sectors and the arcs\n",
    "    \"\"\"\n",
    "    patches = []\n",
    "    for ang, c in zip(ang_range, colors): \n",
    "        # sectors\n",
    "        patches.append(Wedge((0.,0.), .4, *ang, facecolor='w', lw=2))\n",
    "        # arcs\n",
    "        patches.append(Wedge((0.,0.), .4, *ang, width=0.10, facecolor=c, lw=2, alpha=0.5))\n",
    "    \n",
    "    [ax.add_patch(p) for p in patches]\n",
    "\n",
    "    \n",
    "    \"\"\"\n",
    "    set the labels (e.g. 'LOW','MEDIUM',...)\n",
    "    \"\"\"\n",
    "\n",
    "    for mid, lab in zip(mid_points, labels):\n",
    "        AVG_STR_LENGTH = 12\n",
    "        AVG_FONT_SIZE = 11\n",
    "        MAX_FONT_SIZE = 30\n",
    "        \n",
    "        fontSize = min(AVG_STR_LENGTH / len(lab) * AVG_FONT_SIZE, MAX_FONT_SIZE) # create dynamic font size based on string length\n",
    "        ax.text(0.35 * np.cos(np.radians(mid)), 0.35 * np.sin(np.radians(mid)), lab,\n",
    "            horizontalalignment='center', verticalalignment='center', fontsize=fontSize,\n",
    "            fontweight='bold', rotation = rot_text(mid))\n",
    "\n",
    "    \"\"\"\n",
    "    set the bottom banner and the title\n",
    "    \"\"\"\n",
    "    r = Rectangle((-0.4,-0.1),0.8,0.1, facecolor='w', lw=2)\n",
    "    ax.add_patch(r)\n",
    "    \n",
    "    ax.text(0, -0.05, title, horizontalalignment='center',\n",
    "         verticalalignment='center', fontsize=22, fontweight='bold')\n",
    "\n",
    "    #Plot the arrow based on given sentiment value.\n",
    "    lowestAngle = ang_range[0][0]\n",
    "    highestAngle = ang_range[-1][1]\n",
    "    \n",
    "    pos = map(sentiment, MIN_SENTIMENT, MAX_SENTIMENT, highestAngle, lowestAngle)\n",
    "    \n",
    "    ax.arrow(0, 0, 0.225 * np.cos(np.radians(pos)), 0.225 * np.sin(np.radians(pos)),\n",
    "                 width=0.03, head_width=0.09, head_length=0.1, fc='k', ec='k')\n",
    "    \n",
    "    ax.add_patch(Circle((0, 0), radius=ARROW_TAIL_RADIUS, facecolor='k')) # make the arrow rounded at the tail\n",
    "\n",
    "    \"\"\"\n",
    "    removes frame and ticks, and makes axis equal and tight\n",
    "    \"\"\"\n",
    "    \n",
    "    ax.set_frame_on(False)\n",
    "    ax.axes.set_xticks([])\n",
    "    ax.axes.set_yticks([])\n",
    "    ax.axis('equal')\n",
    "    plt.tight_layout()\n",
    "    if fname:\n",
    "        fig.savefig(fname, dpi=200)"
   ]
  },
  {
   "cell_type": "markdown",
   "metadata": {},
   "source": [
    "## Create function to compute and display sentiment value"
   ]
  },
  {
   "cell_type": "code",
   "execution_count": 239,
   "metadata": {},
   "outputs": [],
   "source": [
    "def displaySentiment(text):\n",
    "    print(findSentiment(text))\n",
    "    gauge(labels=['Very Negative','Negative','Neutral','Positive', 'Very Positive'], \n",
    "      colors=['#c80000','#c84b00','#646400','#64a000', '#00c800'], sentiment=findSentiment(text), title='Cryptocurrency Sentiment') "
   ]
  },
  {
   "cell_type": "markdown",
   "metadata": {},
   "source": [
    "## Scrape web for news article"
   ]
  },
  {
   "cell_type": "code",
   "execution_count": 264,
   "metadata": {},
   "outputs": [
    {
     "name": "stdout",
     "output_type": "stream",
     "text": [
      "2.0\n"
     ]
    },
    {
     "data": {
      "image/png": "[encoded data removed]",
      "text/plain": [
       "<Figure size 432x288 with 1 Axes>"
      ]
     },
     "metadata": {},
     "output_type": "display_data"
    }
   ],
   "source": [
    "from requests import get\n",
    "from requests.exceptions import RequestException\n",
    "from contextlib import closing\n",
    "from bs4 import BeautifulSoup\n",
    "from newsapi import NewsApiClient\n",
    "\n",
    "def getPageContent(url):\n",
    "    try: \n",
    "        with closing(get(url, stream = True)) as page:\n",
    "            return page.content.decode(\"utf-8\")\n",
    "    except RequestException as e:\n",
    "        print(e)\n",
    "        return\n",
    "    \n",
    "def parseHTML(url):\n",
    "    return BeautifulSoup(getPageContent(url), 'html.parser')\n",
    "\n",
    "# Extracts the text from a CNN article with given URL, excluding the headline and any advertisements.\n",
    "def getCNNText(url):\n",
    "    htmlParser = parseHTML(url)\n",
    "    \n",
    "    text = \"\"\n",
    "\n",
    "    for element in htmlParser.select('div'):\n",
    "        if element.has_attr('class') and 'zn-body__paragraph' in element['class']: \n",
    "            text += element.text \n",
    "    return text\n",
    "text = getCNNText(\"https://www.cnn.com/2019/06/26/business/bitcoin-value-trnd/index.html\")\n",
    "displaySentiment(\"beyond belief.\")\n",
    "\n",
    "# Uses NewsAPI to extract all articles from a given day.\n",
    "def getArticleURLs(day, month, year):\n",
    "    dayPrefix = \"%04d-%02d-%02d\" % (year, month, day)\n",
    "    \n",
    "    newsapi = NewsApiClient(api_key = '8d99d69a251a453f8c084f4768db7195')\n",
    "    \n",
    "    urls = []\n",
    "    second = 0\n",
    "    minute = 0\n",
    "    for hour in range (0, 24):\n",
    "        for minute in range (0, 59, 10):\n",
    "            iso8601DateStart = \"%sT%s\" % (dayPrefix, \"%02d:%02d:%02d\" % (hour, minute, second))\n",
    "            iso8601DateEnd = \"%sT%s\" % (dayPrefix, \"%02d:%02d:%02d\" % (hour, minute + (10 if minute != 50 else 9), second))\n",
    "            all_articles = newsapi.get_everything(q='bitcoin', from_param= iso8601DateStart, to=iso8601DateEnd, page=1)\n",
    "            for article in all_articles['articles']:\n",
    "                urls += article['url']\n",
    "    return urls"
   ]
  },
  {
   "cell_type": "markdown",
   "metadata": {},
   "source": [
    "## Kill the NLP server"
   ]
  },
  {
   "cell_type": "code",
   "execution_count": 247,
   "metadata": {},
   "outputs": [
    {
     "data": {
      "text/plain": [
       "<os._wrap_close at 0x1131f8198>"
      ]
     },
     "execution_count": 247,
     "metadata": {},
     "output_type": "execute_result"
    }
   ],
   "source": [
    "exec('kill $(lsof -ti tcp:9000)')"
   ]
  }
 ],
 "metadata": {
  "kernelspec": {
   "display_name": "Python 3",
   "language": "python",
   "name": "python3"
  },
  "language_info": {
   "codemirror_mode": {
    "name": "ipython",
    "version": 3
   },
   "file_extension": ".py",
   "mimetype": "text/x-python",
   "name": "python",
   "nbconvert_exporter": "python",
   "pygments_lexer": "ipython3",
   "version": "3.7.3"
  }
 },
 "nbformat": 4,
 "nbformat_minor": 2
}
