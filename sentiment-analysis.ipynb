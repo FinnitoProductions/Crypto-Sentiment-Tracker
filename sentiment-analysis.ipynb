{
 "cells": [
  {
   "cell_type": "markdown",
   "metadata": {},
   "source": [
    "## Start the NLP server\n"
   ]
  },
  {
   "cell_type": "code",
   "execution_count": 2,
   "metadata": {},
   "outputs": [
    {
     "data": {
      "text/plain": [
       "<os._wrap_close at 0x111cb5128>"
      ]
     },
     "execution_count": 2,
     "metadata": {},
     "output_type": "execute_result"
    }
   ],
   "source": [
    "import os\n",
    "\n",
    "STANFORD_NLP_LOCATION = '~/stanford-corenlp-full-2018-10-05/' # the location of the Stanford NLP library on my computer \n",
    "                                                              #(download at https://stanfordnlp.github.io/CoreNLP)\n",
    "STANFORD_NLP_TIMEOUT = 10000 # the time after which a given NLP request will be killed if not yet complete\n",
    "\n",
    "exec = os.popen\n",
    "exec('cd %s; java -mx5g -cp \"*\" edu.stanford.nlp.pipeline.StanfordCoreNLPServer -timeout %s' % \n",
    "     (STANFORD_NLP_LOCATION, STANFORD_NLP_TIMEOUT))"
   ]
  },
  {
   "cell_type": "markdown",
   "metadata": {},
   "source": [
    "## Create function to determine the sentiment of a block of text"
   ]
  },
  {
   "cell_type": "code",
   "execution_count": 75,
   "metadata": {},
   "outputs": [
    {
     "name": "stdout",
     "output_type": "stream",
     "text": [
      "1.3571428571428572\n"
     ]
    }
   ],
   "source": [
    "from pycorenlp import StanfordCoreNLP\n",
    "import numpy\n",
    "\n",
    "MIN_SENTIMENT = 0\n",
    "MAX_SENTIMENT = 4\n",
    "\n",
    "# Determines the sentiment of a given block of text as a range from 0 (Extremely Negative) to 4 (Extremely Positive).\n",
    "def findSentiment(text):\n",
    "    NLP_SERVER_LOCATION = 'http://localhost:9000'\n",
    "    PROPERTIES_DICTIONARY = {'annotators': 'sentiment', 'outputFormat': 'json', 'timeout': 1000}\n",
    "    \n",
    "    nlp = StanfordCoreNLP(NLP_SERVER_LOCATION)\n",
    "    result = nlp.annotate(text, properties = PROPERTIES_DICTIONARY)\n",
    "\n",
    "    sentiments = []\n",
    "    for sentenceAnalysis in result['sentences']:\n",
    "        sentence = \" \".join(t['word'] for t in sentenceAnalysis['tokens'])\n",
    "        sentence = sentence.replace('.', '')\n",
    "\n",
    "        sentimentValue = float(sentenceAnalysis['sentimentValue'])\n",
    "\n",
    "        sentiments += [sentimentValue]\n",
    "    return numpy.average(sentiments)\n",
    "\n",
    "print(findSentiment(TEXT))"
   ]
  },
  {
   "cell_type": "markdown",
   "metadata": {},
   "source": [
    "## Create gauge visual for sentiment reading"
   ]
  },
  {
   "cell_type": "code",
   "execution_count": 121,
   "metadata": {},
   "outputs": [
    {
     "data": {
      "text/html": [
       "        <script type=\"text/javascript\">\n",
       "        window.PlotlyConfig = {MathJaxConfig: 'local'};\n",
       "        if (window.MathJax) {MathJax.Hub.Config({SVG: {font: \"STIX-Web\"}});}\n",
       "        if (typeof require !== 'undefined') {\n",
       "        require.undef(\"plotly\");\n",
       "        requirejs.config({\n",
       "            paths: {\n",
       "                'plotly': ['https://cdn.plot.ly/plotly-latest.min']\n",
       "            }\n",
       "        });\n",
       "        require(['plotly'], function(Plotly) {\n",
       "            window._Plotly = Plotly;\n",
       "        });\n",
       "        }\n",
       "        </script>\n",
       "        "
      ]
     },
     "metadata": {},
     "output_type": "display_data"
    },
    {
     "data": {
      "application/vnd.plotly.v1+json": {
       "config": {
        "linkText": "Export to plot.ly",
        "plotlyServerURL": "https://plot.ly",
        "showLink": false
       },
       "data": [
        {
         "direction": "clockwise",
         "domain": {
          "x": [
           0,
           0.48
          ]
         },
         "hole": 0.4,
         "hoverinfo": "none",
         "labels": [
          "-",
          "-",
          "-",
          "-",
          "-",
          "-"
         ],
         "marker": {
          "colors": [
           "rgb(255, 255, 255)",
           "rgb(255, 255, 255)",
           "rgb(255, 255, 255)",
           "rgb(255, 255, 255)",
           "rgb(255, 255, 255)",
           "rgb(255, 255, 255)",
           "rgb(255, 255, 255)"
          ],
          "line": {
           "width": 0
          }
         },
         "name": "Sentiment Gauge",
         "rotation": 108,
         "showlegend": false,
         "textinfo": "label",
         "textposition": "outside",
         "type": "pie",
         "uid": "a78ab6e4-20ae-4143-b16e-445060343ad6",
         "values": [
          50,
          10,
          10,
          10,
          10,
          10
         ]
        },
        {
         "direction": "clockwise",
         "hole": 0.3,
         "hoverinfo": "none",
         "labels": [
          "-",
          "Extremely Negative",
          "Negative",
          "Neutral",
          "Positive",
          "Extremely Positive"
         ],
         "marker": {
          "colors": [
           "rgb(255, 255, 255)",
           "rgb(200,0,0)",
           "rgb(200,75,0)",
           "rgb(100,100,0)",
           "rgb(100,160,0)",
           "rgb(0,200,0)"
          ]
         },
         "name": "Gauge",
         "rotation": 90,
         "showlegend": false,
         "textinfo": "label",
         "textposition": "inside",
         "type": "pie",
         "uid": "2dc4b07a-2113-4ecb-aca2-20696daafb01",
         "values": [
          50,
          10,
          10,
          10,
          10,
          10
         ]
        }
       ],
       "layout": {
        "shapes": [
         {
          "fillcolor": "rgba(44, 160, 101, 0.5)",
          "line": {
           "width": 0.5
          },
          "path": "M 0.495 0.5 L 0.575 0.6299038105676658 L 0.505 0.5 Z",
          "type": "path"
         }
        ],
        "xaxis": {
         "showgrid": false,
         "showticklabels": false,
         "zeroline": false
        },
        "yaxis": {
         "showgrid": false,
         "showticklabels": false,
         "zeroline": false
        }
       }
      },
      "text/html": [
       "<div>\n",
       "        \n",
       "        \n",
       "            <div id=\"352858bc-072c-4694-97b1-2510feb13475\" class=\"plotly-graph-div\" style=\"height:525px; width:100%;\"></div>\n",
       "            <script type=\"text/javascript\">\n",
       "                require([\"plotly\"], function(Plotly) {\n",
       "                    window.PLOTLYENV=window.PLOTLYENV || {};\n",
       "                    window.PLOTLYENV.BASE_URL='https://plot.ly';\n",
       "                    \n",
       "                if (document.getElementById(\"352858bc-072c-4694-97b1-2510feb13475\")) {\n",
       "                    Plotly.newPlot(\n",
       "                        '352858bc-072c-4694-97b1-2510feb13475',\n",
       "                        [{\"direction\": \"clockwise\", \"domain\": {\"x\": [0, 0.48]}, \"hole\": 0.4, \"hoverinfo\": \"none\", \"labels\": [\"-\", \"-\", \"-\", \"-\", \"-\", \"-\"], \"marker\": {\"colors\": [\"rgb(255, 255, 255)\", \"rgb(255, 255, 255)\", \"rgb(255, 255, 255)\", \"rgb(255, 255, 255)\", \"rgb(255, 255, 255)\", \"rgb(255, 255, 255)\", \"rgb(255, 255, 255)\"], \"line\": {\"width\": 0}}, \"name\": \"Sentiment Gauge\", \"rotation\": 108, \"showlegend\": false, \"textinfo\": \"label\", \"textposition\": \"outside\", \"type\": \"pie\", \"uid\": \"a78ab6e4-20ae-4143-b16e-445060343ad6\", \"values\": [50, 10, 10, 10, 10, 10]}, {\"direction\": \"clockwise\", \"hole\": 0.3, \"hoverinfo\": \"none\", \"labels\": [\"-\", \"Extremely Negative\", \"Negative\", \"Neutral\", \"Positive\", \"Extremely Positive\"], \"marker\": {\"colors\": [\"rgb(255, 255, 255)\", \"rgb(200,0,0)\", \"rgb(200,75,0)\", \"rgb(100,100,0)\", \"rgb(100,160,0)\", \"rgb(0,200,0)\"]}, \"name\": \"Gauge\", \"rotation\": 90, \"showlegend\": false, \"textinfo\": \"label\", \"textposition\": \"inside\", \"type\": \"pie\", \"uid\": \"2dc4b07a-2113-4ecb-aca2-20696daafb01\", \"values\": [50, 10, 10, 10, 10, 10]}],\n",
       "                        {\"shapes\": [{\"fillcolor\": \"rgba(44, 160, 101, 0.5)\", \"line\": {\"width\": 0.5}, \"path\": \"M 0.495 0.5 L 0.575 0.6299038105676658 L 0.505 0.5 Z\", \"type\": \"path\"}], \"xaxis\": {\"showgrid\": false, \"showticklabels\": false, \"zeroline\": false}, \"yaxis\": {\"showgrid\": false, \"showticklabels\": false, \"zeroline\": false}},\n",
       "                        {\"showLink\": false, \"linkText\": \"Export to plot.ly\", \"plotlyServerURL\": \"https://plot.ly\", \"responsive\": true}\n",
       "                    ).then(function(){\n",
       "                            \n",
       "var gd = document.getElementById('352858bc-072c-4694-97b1-2510feb13475');\n",
       "var x = new MutationObserver(function (mutations, observer) {{\n",
       "        var display = window.getComputedStyle(gd).display;\n",
       "        if (!display || display === 'none') {{\n",
       "            console.log([gd, 'removed!']);\n",
       "            Plotly.purge(gd);\n",
       "            observer.disconnect();\n",
       "        }}\n",
       "}});\n",
       "\n",
       "// Listen for the removal of the full notebook cells\n",
       "var notebookContainer = gd.closest('#notebook-container');\n",
       "if (notebookContainer) {{\n",
       "    x.observe(notebookContainer, {childList: true});\n",
       "}}\n",
       "\n",
       "// Listen for the clearing of the current output cell\n",
       "var outputEl = gd.closest('.output');\n",
       "if (outputEl) {{\n",
       "    x.observe(outputEl, {childList: true});\n",
       "}}\n",
       "\n",
       "                        })\n",
       "                };\n",
       "                });\n",
       "            </script>\n",
       "        </div>"
      ]
     },
     "metadata": {},
     "output_type": "display_data"
    }
   ],
   "source": [
    "import plotly.offline as py\n",
    "import plotly.graph_objs as go\n",
    "import math\n",
    "\n",
    "def map(num, init_min, init_max, new_min, new_max):\n",
    "    return (num - init_min) * (new_max - new_min) / (init_max - init_min) + new_min\n",
    "\n",
    "py.init_notebook_mode(connected=True) # Include this line for all charts to be displayed directly in the notebook\n",
    "\n",
    "base_chart = {\n",
    "    \"values\": [50, 10, 10, 10, 10, 10],\n",
    "    \"labels\": [\"-\", \"-\", \"-\", \"-\", \"-\", \"-\"],\n",
    "    \"domain\": {\"x\": [0, .48]},\n",
    "    \"marker\": {\n",
    "        \"colors\": [\n",
    "            'rgb(255, 255, 255)',\n",
    "            'rgb(255, 255, 255)',\n",
    "            'rgb(255, 255, 255)',\n",
    "            'rgb(255, 255, 255)',\n",
    "            'rgb(255, 255, 255)',\n",
    "            'rgb(255, 255, 255)',\n",
    "            'rgb(255, 255, 255)'\n",
    "        ],\n",
    "        \"line\": {\n",
    "            \"width\": 0\n",
    "        }\n",
    "    },\n",
    "    \"name\": \"Sentiment Gauge\",\n",
    "    \"hole\": 0.4,\n",
    "    \"type\": \"pie\",\n",
    "    \"direction\": \"clockwise\",\n",
    "    \"rotation\": 108,\n",
    "    \"showlegend\": False,\n",
    "    \"hoverinfo\": \"none\",\n",
    "    \"textinfo\": \"label\",\n",
    "    \"textposition\": \"outside\"\n",
    "}\n",
    "\n",
    "meter_chart = {\n",
    "    \"values\": [50, 10, 10, 10, 10, 10],\n",
    "    \"labels\": [\"-\", \"Extremely Negative\", \"Negative\", \"Neutral\", \"Positive\", \"Extremely Positive\"],\n",
    "    \"marker\": {\n",
    "        'colors': [\n",
    "            'rgb(255, 255, 255)',\n",
    "            'rgb(200,0,0)',\n",
    "            'rgb(200,75,0)',\n",
    "            'rgb(100,100,0)',\n",
    "            'rgb(100,160,0)',\n",
    "            'rgb(0,200,0)'\n",
    "        ]\n",
    "    },\n",
    "    \"name\": \"Gauge\",\n",
    "    \"hole\": .3,\n",
    "    \"type\": \"pie\",\n",
    "    \"direction\": \"clockwise\",\n",
    "    \"rotation\": 90,\n",
    "    \"showlegend\": False,\n",
    "    \"textinfo\": \"label\",\n",
    "    \"textposition\": \"inside\",\n",
    "    \"hoverinfo\": \"none\"\n",
    "}\n",
    "\n",
    "CIRCLE_RADIUS = 0.15\n",
    "CIRCLE_CENTER = (0.5, 0.5)\n",
    "TRIANGLE_SIDE_LENGTH = 0.02\n",
    "\n",
    "circleEqn = lambda x : (math.sqrt(abs(math.pow(CIRCLE_RADIUS, 2) - math.pow((x - CIRCLE_CENTER[0]), 2))) + CIRCLE_CENTER[1])\n",
    "\n",
    "xVal = map(3, MIN_SENTIMENT, MAX_SENTIMENT, CIRCLE_CENTER[0] - CIRCLE_RADIUS, CIRCLE_CENTER[0] + CIRCLE_RADIUS)\n",
    "yVal = circleEqn(xVal)\n",
    "properties = {\n",
    "    \"xaxis\": {\n",
    "        \"showticklabels\": False,\n",
    "        'showgrid': False,\n",
    "        'zeroline': False,\n",
    "    },\n",
    "    \"yaxis\": {\n",
    "        \"showticklabels\": False,\n",
    "        'showgrid': False,\n",
    "        'zeroline': False,\n",
    "    },\n",
    "    \"shapes\": [\n",
    "        {\n",
    "            \"type\": \"path\",\n",
    "            \"path\": \"M 0.495 0.5 L %s %s L 0.505 0.5 Z\" % (xVal, yVal), # specify path in SVG format\n",
    "            \"fillcolor\": \"rgba(44, 160, 101, 0.5)\",\n",
    "            \"line\": {\n",
    "                \"width\": 0.5\n",
    "            }\n",
    "        }\n",
    "    ],\n",
    "}\n",
    "\n",
    "gauge = {\n",
    "    \"data\": [base_chart, meter_chart],\n",
    "    \"layout\": properties\n",
    "}\n",
    "\n",
    "py.iplot(gauge)"
   ]
  },
  {
   "cell_type": "markdown",
   "metadata": {},
   "source": [
    "## Scrape web for news article"
   ]
  },
  {
   "cell_type": "code",
   "execution_count": 10,
   "metadata": {},
   "outputs": [
    {
     "name": "stdout",
     "output_type": "stream",
     "text": [
      "Its value surged on Wednesday, passing the $13,000 mark, before it shed about $1,000 within minutes. Around 6 pm ET, the currency was back to a $12,400-plus valuation.The reason for the sudden midday sell off wasn't immediately clear. But cryptocurrencies are known for price swings. A previous bitcoin craze hit a fever pitch in 2017. Bitcoin soared from just a few hundred dollars apiece in January 2017 to more than $20,000. But it came crashing down again. BItcoin's value was still hovering around the $3,000 mark four months ago.  Experts say a weakening US dollar and fresh discussions about regulating digital currencies are fueling the latest spike in demand.BItcoin reached a $10,000 value on Friday for the first time in more than a year. It was likely helped by an announcement from Facebook (FB) last month that the social network planned to debut its own digital currency, called Libra, introducing its 2 billion users to crypto. Libra may hurt bitcoin's value if it becomes the preferred choice for digital currency users. But the company's foray into the cryptocurrency industry also renewed discussions among top economic leaders about regulating the industry, which could help legitimize alternative currencies in the eyes of consumers.Jerome Powell, chair of the US Federal Reserve, and Bank of England Governor Mark Carney both indicated they were open minded and planned to work closely with Facebook on its Libra roll out.Nigel Green, CEO of financial consultancy firm deVere Group, also urged world leaders at the G20 summit in Japan this week to take \"decisive steps\" toward creating a global regulatory framework.\"It's now high-time the leaders at the G20 summit caught up\" on regulating digital currencies, Green said, according to a copy of his remarks emailed to CNN Business. \"Or do they seriously think that traditional, fiat currencies are the way forward?\"Bitcoin, and other cryptos from Ethereum to Dogecoin, are not formally backed by financial institutions or governments. Every purchase and sale of a bitcoin is instead recorded on a decentralized digital ledger, using a technology called blockchain. Because transactions can be recorded anonymously, crytpocurrencies have long been associated with shady online practices, such as buying and selling illegal goods on the dark web.But supporters from Wall Street to Silicon Valley have argued that cryptos are the future of money. They say it's more resistant to fraud and theft. Many advocates hope regulation and more involvement from traditional banks could help win over skeptics and make cryptocurrencies a part of everyday life.\n",
      "1.5555555555555556\n"
     ]
    }
   ],
   "source": [
    "from requests import get\n",
    "from requests.exceptions import RequestException\n",
    "from contextlib import closing\n",
    "from bs4 import BeautifulSoup\n",
    "from newsapi import NewsApiClient\n",
    "\n",
    "def getPageContent(url):\n",
    "    try: \n",
    "        with closing(get(url, stream = True)) as page:\n",
    "            return page.content.decode(\"utf-8\")\n",
    "    except RequestException as e:\n",
    "        print(e)\n",
    "        return\n",
    "    \n",
    "def parseHTML(url):\n",
    "    return BeautifulSoup(getPageContent(url), 'html.parser')\n",
    "\n",
    "# Extracts the text from a CNN article with given URL, excluding the headline and any advertisements.\n",
    "def getCNNText(url):\n",
    "    htmlParser = parseHTML(url)\n",
    "    \n",
    "    text = \"\"\n",
    "\n",
    "    for element in htmlParser.select('div'):\n",
    "        if element.has_attr('class') and 'zn-body__paragraph' in element['class']: \n",
    "            text += element.text \n",
    "    return text\n",
    "text = getCNNText(\"https://www.cnn.com/2019/06/26/business/bitcoin-value-trnd/index.html\")\n",
    "print(text)\n",
    "print(findSentiment(text))\n",
    "\n",
    "# Uses NewsAPI to extract all articles from a given day.\n",
    "def getArticleURLs(day, month, year):\n",
    "    dayPrefix = \"%04d-%02d-%02d\" % (year, month, day)\n",
    "    \n",
    "    newsapi = NewsApiClient(api_key = '8d99d69a251a453f8c084f4768db7195')\n",
    "    \n",
    "    urls = []\n",
    "    second = 0\n",
    "    minute = 0\n",
    "    for hour in range (0, 24):\n",
    "        for minute in range (0, 59, 10):\n",
    "            iso8601DateStart = \"%sT%s\" % (dayPrefix, \"%02d:%02d:%02d\" % (hour, minute, second))\n",
    "            iso8601DateEnd = \"%sT%s\" % (dayPrefix, \"%02d:%02d:%02d\" % (hour, minute + (10 if minute != 50 else 9), second))\n",
    "            all_articles = newsapi.get_everything(q='bitcoin', from_param= iso8601DateStart, to=iso8601DateEnd, page=1)\n",
    "            for article in all_articles['articles']:\n",
    "                urls += article['url']\n",
    "    return urls"
   ]
  },
  {
   "cell_type": "markdown",
   "metadata": {},
   "source": [
    "## Kill the NLP server"
   ]
  },
  {
   "cell_type": "code",
   "execution_count": 247,
   "metadata": {},
   "outputs": [
    {
     "data": {
      "text/plain": [
       "<os._wrap_close at 0x1131f8198>"
      ]
     },
     "execution_count": 247,
     "metadata": {},
     "output_type": "execute_result"
    }
   ],
   "source": [
    "exec('kill $(lsof -ti tcp:9000)')"
   ]
  }
 ],
 "metadata": {
  "kernelspec": {
   "display_name": "Python 3",
   "language": "python",
   "name": "python3"
  },
  "language_info": {
   "codemirror_mode": {
    "name": "ipython",
    "version": 3
   },
   "file_extension": ".py",
   "mimetype": "text/x-python",
   "name": "python",
   "nbconvert_exporter": "python",
   "pygments_lexer": "ipython3",
   "version": "3.7.3"
  }
 },
 "nbformat": 4,
 "nbformat_minor": 2
}
